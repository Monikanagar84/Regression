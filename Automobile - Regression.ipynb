{
 "cells": [
  {
   "cell_type": "code",
   "execution_count": 2,
   "metadata": {},
   "outputs": [],
   "source": [
    "#import the libraries\n",
    "\n",
    "import matplotlib.pyplot as plt\n",
    "import numpy as np \n",
    "import pandas as pd\n",
    "import matplotlib\n",
    "matplotlib.rcParams.update({'font.size': 12})"
   ]
  },
  {
   "cell_type": "code",
   "execution_count": 3,
   "metadata": {},
   "outputs": [],
   "source": [
    "from sklearn.datasets import load_boston\n",
    "from sklearn.model_selection import train_test_split\n",
    "from sklearn.linear_model import LinearRegression\n",
    "from sklearn.linear_model import Ridge"
   ]
  },
  {
   "cell_type": "code",
   "execution_count": 4,
   "metadata": {},
   "outputs": [],
   "source": [
    "df=pd.read_csv(\"Automobile.csv\")"
   ]
  },
  {
   "cell_type": "code",
   "execution_count": 5,
   "metadata": {},
   "outputs": [
    {
     "name": "stdout",
     "output_type": "stream",
     "text": [
      "<class 'pandas.core.frame.DataFrame'>\n",
      "RangeIndex: 201 entries, 0 to 200\n",
      "Data columns (total 26 columns):\n",
      "symboling              201 non-null int64\n",
      "normalized_losses      201 non-null int64\n",
      "make                   201 non-null object\n",
      "fuel_type              201 non-null object\n",
      "aspiration             201 non-null object\n",
      "number_of_doors        201 non-null object\n",
      "body_style             201 non-null object\n",
      "drive_wheels           201 non-null object\n",
      "engine_location        201 non-null object\n",
      "wheel_base             201 non-null float64\n",
      "length                 201 non-null float64\n",
      "width                  201 non-null float64\n",
      "height                 201 non-null float64\n",
      "curb_weight            201 non-null int64\n",
      "engine_type            201 non-null object\n",
      "number_of_cylinders    201 non-null object\n",
      "engine_size            201 non-null int64\n",
      "fuel_system            201 non-null object\n",
      "bore                   201 non-null float64\n",
      "stroke                 201 non-null float64\n",
      "compression_ratio      201 non-null float64\n",
      "horsepower             201 non-null int64\n",
      "peak_rpm               201 non-null int64\n",
      "city_mpg               201 non-null int64\n",
      "highway_mpg            201 non-null int64\n",
      "price                  201 non-null int64\n",
      "dtypes: float64(7), int64(9), object(10)\n",
      "memory usage: 40.9+ KB\n",
      "None\n"
     ]
    }
   ],
   "source": [
    "print(df.info())"
   ]
  },
  {
   "cell_type": "code",
   "execution_count": 6,
   "metadata": {},
   "outputs": [
    {
     "name": "stdout",
     "output_type": "stream",
     "text": [
      "        symboling  normalized_losses  wheel_base      length       width  \\\n",
      "count  201.000000         201.000000  201.000000  201.000000  201.000000   \n",
      "mean     0.840796         125.189055   98.797015  174.200995   65.889055   \n",
      "std      1.254802          33.572966    6.066366   12.322175    2.101471   \n",
      "min     -2.000000          65.000000   86.600000  141.100000   60.300000   \n",
      "25%      0.000000         101.000000   94.500000  166.800000   64.100000   \n",
      "50%      1.000000         122.000000   97.000000  173.200000   65.500000   \n",
      "75%      2.000000         150.000000  102.400000  183.500000   66.600000   \n",
      "max      3.000000         256.000000  120.900000  208.100000   72.000000   \n",
      "\n",
      "           height  curb_weight  engine_size        bore      stroke  \\\n",
      "count  201.000000   201.000000   201.000000  201.000000  201.000000   \n",
      "mean    53.766667  2555.666667   126.875622    3.329701    3.261741   \n",
      "std      2.447822   517.296727    41.546834    0.268166    0.317875   \n",
      "min     47.800000  1488.000000    61.000000    2.540000    2.070000   \n",
      "25%     52.000000  2169.000000    98.000000    3.150000    3.110000   \n",
      "50%     54.100000  2414.000000   120.000000    3.310000    3.290000   \n",
      "75%     55.500000  2926.000000   141.000000    3.580000    3.460000   \n",
      "max     59.800000  4066.000000   326.000000    3.940000    4.170000   \n",
      "\n",
      "       compression_ratio  horsepower     peak_rpm    city_mpg  highway_mpg  \\\n",
      "count         201.000000  201.000000   201.000000  201.000000   201.000000   \n",
      "mean           10.164279  103.263682  5121.393035   25.179104    30.686567   \n",
      "std             4.004965   37.389372   479.624905    6.423220     6.815150   \n",
      "min             7.000000   48.000000  4150.000000   13.000000    16.000000   \n",
      "25%             8.600000   70.000000  4800.000000   19.000000    25.000000   \n",
      "50%             9.000000   95.000000  5200.000000   24.000000    30.000000   \n",
      "75%             9.400000  116.000000  5500.000000   30.000000    34.000000   \n",
      "max            23.000000  262.000000  6600.000000   49.000000    54.000000   \n",
      "\n",
      "              price  \n",
      "count    201.000000  \n",
      "mean   13207.129353  \n",
      "std     7947.066342  \n",
      "min     5118.000000  \n",
      "25%     7775.000000  \n",
      "50%    10295.000000  \n",
      "75%    16500.000000  \n",
      "max    45400.000000  \n"
     ]
    }
   ],
   "source": [
    "print(df.describe())"
   ]
  },
  {
   "cell_type": "code",
   "execution_count": 8,
   "metadata": {},
   "outputs": [
    {
     "name": "stdout",
     "output_type": "stream",
     "text": [
      "   symboling  normalized_losses         make fuel_type aspiration  \\\n",
      "0          3                168  alfa-romero       gas        std   \n",
      "1          3                168  alfa-romero       gas        std   \n",
      "2          1                168  alfa-romero       gas        std   \n",
      "3          2                164         audi       gas        std   \n",
      "\n",
      "  number_of_doors   body_style drive_wheels engine_location  wheel_base  ...  \\\n",
      "0             two  convertible          rwd           front        88.6  ...   \n",
      "1             two  convertible          rwd           front        88.6  ...   \n",
      "2             two    hatchback          rwd           front        94.5  ...   \n",
      "3            four        sedan          fwd           front        99.8  ...   \n",
      "\n",
      "   engine_size  fuel_system  bore  stroke compression_ratio horsepower  \\\n",
      "0          130         mpfi  3.47    2.68               9.0        111   \n",
      "1          130         mpfi  3.47    2.68               9.0        111   \n",
      "2          152         mpfi  2.68    3.47               9.0        154   \n",
      "3          109         mpfi  3.19    3.40              10.0        102   \n",
      "\n",
      "   peak_rpm city_mpg  highway_mpg  price  \n",
      "0      5000       21           27  13495  \n",
      "1      5000       21           27  16500  \n",
      "2      5000       19           26  16500  \n",
      "3      5500       24           30  13950  \n",
      "\n",
      "[4 rows x 26 columns]\n"
     ]
    }
   ],
   "source": [
    "print(df.head(4))"
   ]
  },
  {
   "cell_type": "code",
   "execution_count": 18,
   "metadata": {},
   "outputs": [
    {
     "name": "stdout",
     "output_type": "stream",
     "text": [
      "   symboling  normalized_losses  wheel_base  length  width  height  \\\n",
      "0          3                168        88.6   168.8   64.1    48.8   \n",
      "1          3                168        88.6   168.8   64.1    48.8   \n",
      "2          1                168        94.5   171.2   65.5    52.4   \n",
      "\n",
      "   curb_weight  engine_size  bore  stroke  compression_ratio  horsepower  \\\n",
      "0         2548          130  3.47    2.68                9.0         111   \n",
      "1         2548          130  3.47    2.68                9.0         111   \n",
      "2         2823          152  2.68    3.47                9.0         154   \n",
      "\n",
      "   peak_rpm  city_mpg  highway_mpg  \n",
      "0      5000        21           27  \n",
      "1      5000        21           27  \n",
      "2      5000        19           26  \n"
     ]
    }
   ],
   "source": [
    "newX=df.drop(['price','make','fuel_type','number_of_doors',\"engine_location\",\"body_style\",\"drive_wheels\",\"fuel_system\",\"aspiration\",\"engine_type\",\"number_of_cylinders\"],axis=1)\n",
    "print(newX[0:3]) # check \n",
    "newY=df['price']"
   ]
  },
  {
   "cell_type": "code",
   "execution_count": 19,
   "metadata": {},
   "outputs": [
    {
     "name": "stdout",
     "output_type": "stream",
     "text": [
      "61 61\n"
     ]
    }
   ],
   "source": [
    "X_train,X_test,y_train,y_test=train_test_split(newX,newY,test_size=0.3,random_state=3)\n",
    "print(len(X_test), len(y_test))"
   ]
  },
  {
   "cell_type": "code",
   "execution_count": 20,
   "metadata": {},
   "outputs": [
    {
     "data": {
      "text/plain": [
       "LinearRegression(copy_X=True, fit_intercept=True, n_jobs=None, normalize=False)"
      ]
     },
     "execution_count": 20,
     "metadata": {},
     "output_type": "execute_result"
    }
   ],
   "source": [
    "lr = LinearRegression()\n",
    "lr.fit(X_train, y_train)"
   ]
  },
  {
   "cell_type": "code",
   "execution_count": 21,
   "metadata": {},
   "outputs": [
    {
     "data": {
      "text/plain": [
       "Ridge(alpha=0.01, copy_X=True, fit_intercept=True, max_iter=None,\n",
       "      normalize=False, random_state=None, solver='auto', tol=0.001)"
      ]
     },
     "execution_count": 21,
     "metadata": {},
     "output_type": "execute_result"
    }
   ],
   "source": [
    "# higher the alpha value, more restriction on the coefficients; \n",
    "# low alpha > more generalization, coefficients are barely\n",
    "rr = Ridge(alpha=0.01) \n",
    "# restricted and in this case linear and ridge regression resembles\n",
    "rr.fit(X_train, y_train)"
   ]
  },
  {
   "cell_type": "code",
   "execution_count": 42,
   "metadata": {},
   "outputs": [
    {
     "data": {
      "text/plain": [
       "Ridge(alpha=100000, copy_X=True, fit_intercept=True, max_iter=None,\n",
       "      normalize=False, random_state=None, solver='auto', tol=0.001)"
      ]
     },
     "execution_count": 42,
     "metadata": {},
     "output_type": "execute_result"
    }
   ],
   "source": [
    "rr100 = Ridge(alpha=100000) #  comparison with alpha value\n",
    "rr100.fit(X_train, y_train)"
   ]
  },
  {
   "cell_type": "code",
   "execution_count": 43,
   "metadata": {},
   "outputs": [],
   "source": [
    "train_score=lr.score(X_train, y_train)\n",
    "test_score=lr.score(X_test, y_test)"
   ]
  },
  {
   "cell_type": "code",
   "execution_count": 44,
   "metadata": {},
   "outputs": [],
   "source": [
    "Ridge_train_score = rr.score(X_train,y_train)\n",
    "Ridge_test_score = rr.score(X_test, y_test)"
   ]
  },
  {
   "cell_type": "code",
   "execution_count": 45,
   "metadata": {},
   "outputs": [],
   "source": [
    "Ridge_train_score100 = rr100.score(X_train,y_train)\n",
    "Ridge_test_score100 = rr100.score(X_test, y_test)"
   ]
  },
  {
   "cell_type": "code",
   "execution_count": 46,
   "metadata": {},
   "outputs": [
    {
     "name": "stdout",
     "output_type": "stream",
     "text": [
      "linear regression train score: 0.8755431757430103\n",
      "linear regression test score: 0.758733298890459\n",
      "ridge regression train score low alpha: 0.8755431097587512\n",
      "ridge regression test score low alpha: 0.7588428429181233\n",
      "ridge regression train score high alpha: 0.7858247859517355\n",
      "ridge regression test score high alpha: 0.7922010757483184\n"
     ]
    }
   ],
   "source": [
    "print(\"linear regression train score:\", train_score)\n",
    "print(\"linear regression test score:\", test_score)\n",
    "print(\"ridge regression train score low alpha:\", Ridge_train_score)\n",
    "print(\"ridge regression test score low alpha:\", Ridge_test_score)\n",
    "print(\"ridge regression train score high alpha:\", Ridge_train_score100)\n",
    "print(\"ridge regression test score high alpha:\", Ridge_test_score100)"
   ]
  },
  {
   "cell_type": "code",
   "execution_count": 47,
   "metadata": {},
   "outputs": [
    {
     "data": {
      "image/png": "[encoded data removed]",
      "text/plain": [
       "<Figure size 432x288 with 1 Axes>"
      ]
     },
     "metadata": {
      "needs_background": "light"
     },
     "output_type": "display_data"
    }
   ],
   "source": [
    "plt.plot(rr.coef_,alpha=0.7,linestyle='none',marker='*',markersize=5,color='red',label=r'Ridge; $\\alpha = 0.01$',zorder=7)\n",
    "# zorder for ordering the markers\n",
    "plt.legend()\n",
    "plt.show()"
   ]
  },
  {
   "cell_type": "code",
   "execution_count": 48,
   "metadata": {},
   "outputs": [
    {
     "data": {
      "text/plain": [
       "[<matplotlib.lines.Line2D at 0x1dbf2f7d668>]"
      ]
     },
     "execution_count": 48,
     "metadata": {},
     "output_type": "execute_result"
    },
    {
     "data": {
      "image/png": "[encoded data removed]",
      "text/plain": [
       "<Figure size 432x288 with 1 Axes>"
      ]
     },
     "metadata": {
      "needs_background": "light"
     },
     "output_type": "display_data"
    }
   ],
   "source": [
    "plt.plot(rr100.coef_,alpha=0.5,linestyle='none',marker='d',markersize=6,color='blue',label=r'Ridge; $\\alpha = 100$') # alpha here is for transparency"
   ]
  },
  {
   "cell_type": "code",
   "execution_count": 49,
   "metadata": {},
   "outputs": [
    {
     "data": {
      "text/plain": [
       "[<matplotlib.lines.Line2D at 0x1dbf2fe80f0>]"
      ]
     },
     "execution_count": 49,
     "metadata": {},
     "output_type": "execute_result"
    },
    {
     "data": {
      "image/png": "[encoded data removed]",
      "text/plain": [
       "<Figure size 432x288 with 1 Axes>"
      ]
     },
     "metadata": {
      "needs_background": "light"
     },
     "output_type": "display_data"
    }
   ],
   "source": [
    "plt.plot(lr.coef_,alpha=0.4,linestyle='none',marker='o',markersize=7,color='green',label='Linear Regression')"
   ]
  },
  {
   "cell_type": "code",
   "execution_count": 52,
   "metadata": {},
   "outputs": [],
   "source": [
    "lasso = Lasso()\n",
    "lasso.fit(X_train,y_train)\n",
    "train_score=lasso.score(X_train,y_train)\n",
    "test_score=lasso.score(X_test,y_test)\n",
    "coeff_used = np.sum(lasso.coef_!=0)"
   ]
  },
  {
   "cell_type": "code",
   "execution_count": 51,
   "metadata": {},
   "outputs": [],
   "source": [
    "from sklearn.linear_model import Lasso"
   ]
  },
  {
   "cell_type": "code",
   "execution_count": 53,
   "metadata": {},
   "outputs": [
    {
     "name": "stdout",
     "output_type": "stream",
     "text": [
      "training score: 0.8755418524803461\n",
      "test score:  0.7592223672433214\n",
      "number of features used:  15\n"
     ]
    }
   ],
   "source": [
    "print(\"training score:\", train_score )\n",
    "print(\"test score: \", test_score)\n",
    "print(\"number of features used: \", coeff_used)"
   ]
  },
  {
   "cell_type": "code",
   "execution_count": 85,
   "metadata": {},
   "outputs": [
    {
     "data": {
      "text/plain": [
       "Lasso(alpha=10000, copy_X=True, fit_intercept=True, max_iter=100.0,\n",
       "      normalize=False, positive=False, precompute=False, random_state=None,\n",
       "      selection='cyclic', tol=0.0001, warm_start=False)"
      ]
     },
     "execution_count": 85,
     "metadata": {},
     "output_type": "execute_result"
    }
   ],
   "source": [
    "lasso00001 = Lasso(alpha=10000, max_iter=10e1)\n",
    "lasso00001.fit(X_train,y_train)"
   ]
  },
  {
   "cell_type": "code",
   "execution_count": 86,
   "metadata": {},
   "outputs": [],
   "source": [
    "train_score00001=lasso00001.score(X_train,y_train)\n",
    "test_score00001=lasso00001.score(X_test,y_test)\n",
    "coeff_used00001 = np.sum(lasso00001.coef_!=0)"
   ]
  },
  {
   "cell_type": "code",
   "execution_count": 87,
   "metadata": {},
   "outputs": [
    {
     "name": "stdout",
     "output_type": "stream",
     "text": [
      "training score for alpha=0.0001: 0.8139419013569686\n",
      "test score for alpha =0.0001:  0.8131298765331603\n",
      "number of features used: for alpha =0.0001:  4\n"
     ]
    }
   ],
   "source": [
    "print(\"training score for alpha=0.0001:\", train_score00001 )\n",
    "print(\"test score for alpha =0.0001: \", test_score00001)\n",
    "print(\"number of features used: for alpha =0.0001: \", coeff_used00001)"
   ]
  },
  {
   "cell_type": "code",
   "execution_count": 88,
   "metadata": {},
   "outputs": [],
   "source": [
    "lr = LinearRegression()\n",
    "lr.fit(X_train,y_train)\n",
    "lr_train_score=lr.score(X_train,y_train)\n",
    "lr_test_score=lr.score(X_test,y_test)"
   ]
  },
  {
   "cell_type": "code",
   "execution_count": 89,
   "metadata": {},
   "outputs": [
    {
     "name": "stdout",
     "output_type": "stream",
     "text": [
      "LR training score: 0.8755431757430103\n",
      "LR test score:  0.758733298890459\n"
     ]
    }
   ],
   "source": [
    "print(\"LR training score:\", lr_train_score )\n",
    "print(\"LR test score: \", lr_test_score)"
   ]
  },
  {
   "cell_type": "code",
   "execution_count": 92,
   "metadata": {},
   "outputs": [
    {
     "data": {
      "image/png": "[encoded data removed]",
      "text/plain": [
       "<Figure size 432x288 with 1 Axes>"
      ]
     },
     "metadata": {
      "needs_background": "light"
     },
     "output_type": "display_data"
    }
   ],
   "source": [
    "plt.subplot(1,2,1)\n",
    "plt.plot(lasso.coef_,alpha=0.7,linestyle='none',marker='*',markersize=5,color='red',label=r'Lasso; $\\alpha = 1$',zorder=7) # alpha here is for transparency\n",
    "plt.plot(lasso00001.coef_,alpha=0.5,linestyle='none',marker='d',markersize=6,color='blue',label=r'Lasso; $\\alpha = 0.01$') # alpha here is for transparency\n",
    "plt.xlabel('Coefficient Index',fontsize=16)\n",
    "plt.ylabel('Coefficient Magnitude',fontsize=16)\n",
    "plt.legend(fontsize=13,loc=4)\n",
    "plt.show()"
   ]
  },
  {
   "cell_type": "code",
   "execution_count": 93,
   "metadata": {},
   "outputs": [
    {
     "data": {
      "image/png": "[encoded data removed]",
      "text/plain": [
       "<Figure size 432x288 with 1 Axes>"
      ]
     },
     "metadata": {
      "needs_background": "light"
     },
     "output_type": "display_data"
    }
   ],
   "source": [
    "plt.subplot(1,2,2)\n",
    "plt.plot(lasso.coef_,alpha=0.7,linestyle='none',marker='*',markersize=5,color='red',label=r'Lasso; $\\alpha = 1$',zorder=7) # alpha here is for transparency\n",
    "plt.plot(lasso00001.coef_,alpha=0.8,linestyle='none',marker='v',markersize=6,color='black',label=r'Lasso; $\\alpha = 0.00001$') # alpha here is for transparency\n",
    "plt.plot(lr.coef_,alpha=0.7,linestyle='none',marker='o',markersize=5,color='green',label='Linear Regression',zorder=2)\n",
    "plt.xlabel('Coefficient Index',fontsize=16)\n",
    "plt.ylabel('Coefficient Magnitude',fontsize=16)\n",
    "plt.legend(fontsize=13,loc=4)\n",
    "plt.tight_layout()\n",
    "plt.show()"
   ]
  },
  {
   "cell_type": "code",
   "execution_count": 94,
   "metadata": {},
   "outputs": [],
   "source": [
    "# Let's perform a cross-validation to find the best combination of alpha and l1_ratio\n",
    "from sklearn.linear_model import ElasticNetCV, ElasticNet\n",
    "from sklearn.metrics import r2_score\n",
    "\n",
    "cv_model = ElasticNetCV(l1_ratio=[.1, .5, .7, .9, .95, .99, .995, 1], eps=0.001, n_alphas=100, fit_intercept=True, \n",
    "                        normalize=True, precompute='auto', max_iter=2000, tol=0.0001, cv=5, \n",
    "                        copy_X=True, verbose=0, n_jobs=-1, positive=False, random_state=None, selection='cyclic')"
   ]
  },
  {
   "cell_type": "code",
   "execution_count": 95,
   "metadata": {},
   "outputs": [
    {
     "data": {
      "text/plain": [
       "ElasticNetCV(alphas=None, copy_X=True, cv=5, eps=0.001, fit_intercept=True,\n",
       "             l1_ratio=[0.1, 0.5, 0.7, 0.9, 0.95, 0.99, 0.995, 1], max_iter=2000,\n",
       "             n_alphas=100, n_jobs=-1, normalize=True, positive=False,\n",
       "             precompute='auto', random_state=None, selection='cyclic',\n",
       "             tol=0.0001, verbose=0)"
      ]
     },
     "execution_count": 95,
     "metadata": {},
     "output_type": "execute_result"
    }
   ],
   "source": [
    "cv_model.fit(X_train, y_train)"
   ]
  },
  {
   "cell_type": "code",
   "execution_count": 96,
   "metadata": {},
   "outputs": [
    {
     "name": "stdout",
     "output_type": "stream",
     "text": [
      "Optimal alpha: 8.36483682\n",
      "Optimal l1_ratio: 1.000\n",
      "Number of iterations 37\n"
     ]
    }
   ],
   "source": [
    "print('Optimal alpha: %.8f'%cv_model.alpha_)\n",
    "print('Optimal l1_ratio: %.3f'%cv_model.l1_ratio_)\n",
    "print('Number of iterations %d'%cv_model.n_iter_)"
   ]
  },
  {
   "cell_type": "code",
   "execution_count": 97,
   "metadata": {},
   "outputs": [
    {
     "data": {
      "text/plain": [
       "ElasticNet(alpha=8.364836818660871, copy_X=True, fit_intercept=True,\n",
       "           l1_ratio=1.0, max_iter=37, normalize=True, positive=False,\n",
       "           precompute=False, random_state=None, selection='cyclic', tol=0.0001,\n",
       "           warm_start=False)"
      ]
     },
     "execution_count": 97,
     "metadata": {},
     "output_type": "execute_result"
    }
   ],
   "source": [
    "# train model with best parameters from CV\n",
    "model = ElasticNet(l1_ratio=cv_model.l1_ratio_, alpha = cv_model.alpha_, max_iter=cv_model.n_iter_, fit_intercept=True, normalize = True)\n",
    "model.fit(X_train, y_train)"
   ]
  },
  {
   "cell_type": "code",
   "execution_count": 98,
   "metadata": {},
   "outputs": [
    {
     "name": "stdout",
     "output_type": "stream",
     "text": [
      "0.867550845817278\n"
     ]
    }
   ],
   "source": [
    "print(r2_score(y_train, model.predict(X_train))) # training data performance"
   ]
  },
  {
   "cell_type": "code",
   "execution_count": 99,
   "metadata": {},
   "outputs": [
    {
     "name": "stdout",
     "output_type": "stream",
     "text": [
      "0.7899998084742075\n"
     ]
    }
   ],
   "source": [
    "print(r2_score(y_test, model.predict(X_test))) # test data performance"
   ]
  },
  {
   "cell_type": "code",
   "execution_count": null,
   "metadata": {},
   "outputs": [],
   "source": []
  }
 ],
 "metadata": {
  "kernelspec": {
   "display_name": "Python 3",
   "language": "python",
   "name": "python3"
  },
  "language_info": {
   "codemirror_mode": {
    "name": "ipython",
    "version": 3
   },
   "file_extension": ".py",
   "mimetype": "text/x-python",
   "name": "python",
   "nbconvert_exporter": "python",
   "pygments_lexer": "ipython3",
   "version": "3.7.3"
  }
 },
 "nbformat": 4,
 "nbformat_minor": 2
}
